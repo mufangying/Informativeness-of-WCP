{
 "cells": [
  {
   "cell_type": "code",
   "execution_count": 1,
   "id": "549e9e6a",
   "metadata": {},
   "outputs": [],
   "source": [
    "from high_dim_utils import *"
   ]
  },
  {
   "cell_type": "code",
   "execution_count": 2,
   "id": "8d110d7a",
   "metadata": {},
   "outputs": [],
   "source": [
    "d = 10\n",
    "y_noise_scale = 0.1\n",
    "test_msc = [np.zeros(d), 1, 0]"
   ]
  },
  {
   "cell_type": "markdown",
   "id": "9e1a511d",
   "metadata": {},
   "source": [
    "### Prepare pre-trained model"
   ]
  },
  {
   "cell_type": "code",
   "execution_count": 3,
   "id": "03e79769",
   "metadata": {},
   "outputs": [],
   "source": [
    "# a pretrained model\n",
    "np.random.seed(324)\n",
    "sample_size = 1000\n",
    "Xtr = np.random.uniform(-3, 3, d*sample_size).reshape(sample_size, d)\n",
    "Ytr = generate_response(Xtr, 0.1)\n",
    "\n",
    "kernel = GPy.kern.RBF(input_dim=d)\n",
    "model = GPy.models.GPRegression(Xtr, Ytr.reshape(-1,1), kernel)\n",
    "\n",
    "# optimize the model parameters\n",
    "model.optimize()\n",
    "f = model.predict"
   ]
  },
  {
   "cell_type": "markdown",
   "id": "85902626",
   "metadata": {},
   "source": [
    "### Compute the magnitude of the error"
   ]
  },
  {
   "cell_type": "code",
   "execution_count": 4,
   "id": "663ae5d8",
   "metadata": {},
   "outputs": [
    {
     "data": {
      "text/plain": [
       "1.0073249887366835"
      ]
     },
     "execution_count": 4,
     "metadata": {},
     "output_type": "execute_result"
    }
   ],
   "source": [
    "np.mean(np.abs(f(Xtr)[0] - Ytr))"
   ]
  },
  {
   "cell_type": "markdown",
   "id": "b0a9fa81",
   "metadata": {},
   "source": [
    "### Replications"
   ]
  },
  {
   "cell_type": "code",
   "execution_count": 5,
   "id": "e52e1fbb",
   "metadata": {},
   "outputs": [],
   "source": [
    "K_int = [2, 10]\n",
    "topK = 3\n",
    "ab_threshold = 0.01\n",
    "\n",
    "n_int = [50, 100]\n",
    "mean_int = [-1,1]\n",
    "std_int = [0.8, 1]\n",
    "cor_int = [0, 0.2]\n",
    "alpha = 0.1\n",
    "\n",
    "R = 200\n",
    "num_method = 4"
   ]
  },
  {
   "cell_type": "code",
   "execution_count": 6,
   "id": "d1ef5c25",
   "metadata": {},
   "outputs": [
    {
     "name": "stdout",
     "output_type": "stream",
     "text": [
      "0\n",
      "50\n",
      "100\n",
      "150\n",
      "Marginal coverage:\n",
      "[0.86  0.93  0.97  0.905]\n",
      "\n",
      "Probabiilty of getting finite prediction intervals\n",
      "[0.985 0.915 0.845 0.995]\n",
      "\n",
      "Informative coverage probability:\n",
      "[0.858 0.923 0.964 0.905]\n",
      "\n",
      "Lengths of informative intervals:\n",
      "[0.349, 0.418, 0.505, 0.395]\n",
      "\n",
      "Working groups number:\n",
      "[6. 1. 3. 6.]\n"
     ]
    }
   ],
   "source": [
    "covs, lens, counts, working_groups_mat = replications(R, d, f, K_int, topK,  ab_threshold,\n",
    "                       n_int, mean_int, std_int, cor_int, y_noise_scale, test_msc,0.1 )\n",
    "\n",
    "# WCP then merged\n",
    "print('Marginal coverage:')\n",
    "print(np.round(np.mean(covs, axis = 0), decimals = 3))\n",
    "print('')\n",
    "\n",
    "print('Probabiilty of getting finite prediction intervals')\n",
    "print(np.round(np.mean(counts, axis = 0), decimals = 3))\n",
    "print('')\n",
    "\n",
    "print('Informative coverage probability:')\n",
    "print( np.round( np.sum(counts*covs, axis = 0) /np.sum(counts, axis = 0), decimals = 3)  )\n",
    "print('')\n",
    "\n",
    "avg_finite_len = []\n",
    "for k in range(num_method):\n",
    "    lenk = lens[:,k]\n",
    "    lenk = lenk[~np.isinf(lenk)]\n",
    "    if len(lenk) == 0:\n",
    "        avg_finite_len.append(  np.inf )\n",
    "    else:\n",
    "        avg_finite_len.append( np.round( np.mean(lenk), decimals=3) )\n",
    "print('Lengths of informative intervals:')\n",
    "print(avg_finite_len )\n",
    "print('')\n",
    "\n",
    "\n",
    "print('Working groups number:')\n",
    "print(np.round( np.quantile(working_groups_mat,0.5, axis = 0) ,decimals = 3))"
   ]
  },
  {
   "cell_type": "code",
   "execution_count": null,
   "id": "6ec6f3b7",
   "metadata": {},
   "outputs": [],
   "source": []
  },
  {
   "cell_type": "code",
   "execution_count": 9,
   "id": "3ae341ed",
   "metadata": {},
   "outputs": [],
   "source": [
    "cor_int = [0.7, 0.9]"
   ]
  },
  {
   "cell_type": "code",
   "execution_count": 10,
   "id": "4df7dd83",
   "metadata": {},
   "outputs": [
    {
     "name": "stdout",
     "output_type": "stream",
     "text": [
      "0\n",
      "50\n",
      "100\n",
      "150\n",
      "Marginal coverage:\n",
      "[0.95  0.96  0.965 0.915]\n",
      "\n",
      "Probabiilty of getting finite prediction intervals\n",
      "[0.74  0.4   0.4   0.905]\n",
      "\n",
      "Informative coverage probability:\n",
      "[0.932 0.9   0.912 0.906]\n",
      "\n",
      "Lengths of informative intervals:\n",
      "[0.454, 0.472, 0.472, 0.416]\n",
      "\n",
      "Working groups number:\n",
      "[5. 1. 1. 5.]\n"
     ]
    }
   ],
   "source": [
    "covs, lens, counts, working_groups_mat = replications(R, d, f, K_int, topK,  ab_threshold,\n",
    "                       n_int, mean_int, std_int, cor_int, y_noise_scale, test_msc,0.1 )\n",
    "\n",
    "# WCP then merged\n",
    "print('Marginal coverage:')\n",
    "print(np.round(np.mean(covs, axis = 0), decimals = 3))\n",
    "print('')\n",
    "\n",
    "print('Probabiilty of getting finite prediction intervals')\n",
    "print(np.round(np.mean(counts, axis = 0), decimals = 3))\n",
    "print('')\n",
    "\n",
    "print('Informative coverage probability:')\n",
    "print( np.round( np.sum(counts*covs, axis = 0) /np.sum(counts, axis = 0), decimals = 3)  )\n",
    "print('')\n",
    "\n",
    "avg_finite_len = []\n",
    "for k in range(num_method):\n",
    "    lenk = lens[:,k]\n",
    "    lenk = lenk[~np.isinf(lenk)]\n",
    "    if len(lenk) == 0:\n",
    "        avg_finite_len.append(  np.inf )\n",
    "    else:\n",
    "        avg_finite_len.append( np.round( np.mean(lenk), decimals=3) )\n",
    "print('Lengths of informative intervals:')\n",
    "print(avg_finite_len )\n",
    "print('')\n",
    "\n",
    "\n",
    "print('Working groups number:')\n",
    "print(np.round( np.quantile(working_groups_mat,0.5, axis = 0) ,decimals = 3))"
   ]
  },
  {
   "cell_type": "code",
   "execution_count": null,
   "id": "7ee13366",
   "metadata": {},
   "outputs": [],
   "source": []
  }
 ],
 "metadata": {
  "kernelspec": {
   "display_name": "Python 3",
   "language": "python",
   "name": "python3"
  },
  "language_info": {
   "codemirror_mode": {
    "name": "ipython",
    "version": 3
   },
   "file_extension": ".py",
   "mimetype": "text/x-python",
   "name": "python",
   "nbconvert_exporter": "python",
   "pygments_lexer": "ipython3",
   "version": "3.8.5"
  }
 },
 "nbformat": 4,
 "nbformat_minor": 5
}

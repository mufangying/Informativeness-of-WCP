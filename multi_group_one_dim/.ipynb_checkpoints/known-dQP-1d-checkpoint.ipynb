{
 "cells": [
  {
   "cell_type": "code",
   "execution_count": 1,
   "id": "0e1fdef5",
   "metadata": {},
   "outputs": [],
   "source": [
    "from mg_1d_utils import *"
   ]
  },
  {
   "cell_type": "code",
   "execution_count": 2,
   "id": "f78ddb41",
   "metadata": {},
   "outputs": [],
   "source": [
    "y_noise_scale = 0.1\n",
    "test_mv = [0, 3]"
   ]
  },
  {
   "cell_type": "markdown",
   "id": "cc4b7f3f",
   "metadata": {},
   "source": [
    "### Prepare pre-trained model"
   ]
  },
  {
   "cell_type": "code",
   "execution_count": 3,
   "id": "9eafc056",
   "metadata": {},
   "outputs": [],
   "source": [
    "# a pretrained model\n",
    "np.random.seed(324)\n",
    "low, high, sample_size = -20, 20, 100\n",
    "Xtr = np.random.uniform(low, high, sample_size)\n",
    "Ytr = generate_response(Xtr, 0.1)\n",
    "\n",
    "kernel = GPy.kern.RBF(input_dim=1)\n",
    "model = GPy.models.GPRegression(Xtr.reshape(-1,1), Ytr.reshape(-1,1), kernel)\n",
    "\n",
    "# optimize the model parameters\n",
    "model.optimize()\n",
    "f = model.predict"
   ]
  },
  {
   "cell_type": "markdown",
   "id": "89c73959",
   "metadata": {},
   "source": [
    "### Replications"
   ]
  },
  {
   "cell_type": "code",
   "execution_count": 4,
   "id": "5bf2a2a4",
   "metadata": {},
   "outputs": [],
   "source": [
    "R = 5000\n",
    "num_method = 4\n",
    "mean_int = [-6, 6]\n",
    "n_int = [10, 101]"
   ]
  },
  {
   "cell_type": "code",
   "execution_count": 5,
   "id": "2f265763",
   "metadata": {},
   "outputs": [],
   "source": [
    "topK = 3\n",
    "ab_threshold = 0.01\n",
    "\n",
    "\n",
    "# small number of groups + small variance\n",
    "K_int = [3, 11]\n",
    "std_int = [0.5, 1.5]"
   ]
  },
  {
   "cell_type": "code",
   "execution_count": 6,
   "id": "9a682bd2",
   "metadata": {},
   "outputs": [
    {
     "name": "stdout",
     "output_type": "stream",
     "text": [
      "Marginal coverage:\n",
      "[0.846 0.932 0.963 0.915]\n",
      "\n",
      "Probabiilty of getting finite prediction intervals\n",
      "[0.889 0.584 0.747 0.916]\n",
      "\n",
      "Informative coverage probability:\n",
      "[0.827 0.884 0.95  0.907]\n",
      "\n",
      "Lengths of informative intervals:\n",
      "[0.311, 0.37, 0.445, 0.361]\n",
      "\n",
      "Working groups number:\n",
      "[6. 1. 3. 6.]\n"
     ]
    }
   ],
   "source": [
    "covs, lens, counts, working_groups_mat = replications(R, f, K_int, topK,  ab_threshold,\n",
    "                       n_int, mean_int, std_int, y_noise_scale, test_mv, w, w_pool, 0.1 )\n",
    "# WCP then merged\n",
    "\n",
    "print('Marginal coverage:')\n",
    "print(np.round(np.mean(covs, axis = 0), decimals = 3))\n",
    "print('')\n",
    "\n",
    "print('Probabiilty of getting finite prediction intervals')\n",
    "print(np.round(np.mean(counts, axis = 0), decimals = 3))\n",
    "print('')\n",
    "\n",
    "print('Informative coverage probability:')\n",
    "print( np.round( np.sum(counts*covs, axis = 0) /np.sum(counts, axis = 0), decimals = 3)  )\n",
    "print('')\n",
    "\n",
    "avg_finite_len = []\n",
    "for k in range(num_method):\n",
    "    lenk = lens[:,k]\n",
    "    lenk = lenk[~np.isinf(lenk)]\n",
    "    if len(lenk) == 0:\n",
    "        avg_finite_len.append(  np.inf )\n",
    "    else:\n",
    "        avg_finite_len.append( np.round( np.mean(lenk), decimals=3) )\n",
    "print('Lengths of informative intervals:')\n",
    "print(avg_finite_len )\n",
    "print('')\n",
    "\n",
    "\n",
    "print('Working groups number:')\n",
    "print(np.round( np.quantile(working_groups_mat,0.5, axis = 0) ,decimals = 3))"
   ]
  },
  {
   "cell_type": "code",
   "execution_count": null,
   "id": "803f12f0",
   "metadata": {},
   "outputs": [],
   "source": []
  },
  {
   "cell_type": "code",
   "execution_count": 7,
   "id": "b349fc9e",
   "metadata": {},
   "outputs": [],
   "source": [
    "topK = 3\n",
    "ab_threshold = 0.01\n",
    "# small number of groups + small variance\n",
    "K_int = [3, 11]\n",
    "std_int = [1.5, 2.5]"
   ]
  },
  {
   "cell_type": "code",
   "execution_count": 8,
   "id": "f952a2ce",
   "metadata": {},
   "outputs": [
    {
     "name": "stdout",
     "output_type": "stream",
     "text": [
      "Marginal coverage:\n",
      "[0.808 0.917 0.945 0.902]\n",
      "\n",
      "Probabiilty of getting finite prediction intervals\n",
      "[0.984 0.881 0.949 0.99 ]\n",
      "\n",
      "Informative coverage probability:\n",
      "[0.805 0.905 0.942 0.901]\n",
      "\n",
      "Lengths of informative intervals:\n",
      "[0.294, 0.376, 0.432, 0.359]\n",
      "\n",
      "Working groups number:\n",
      "[7. 1. 2. 7.]\n"
     ]
    }
   ],
   "source": [
    "covs, lens, counts, working_groups_mat = replications(R, f, K_int, topK,  ab_threshold,\n",
    "                                                         n_int, mean_int, \n",
    "                                                      std_int,  y_noise_scale, test_mv,\n",
    "                                                      w, w_pool, 0.1 )\n",
    "# WCP then merged\n",
    "\n",
    "print('Marginal coverage:')\n",
    "print(np.round(np.mean(covs, axis = 0), decimals = 3))\n",
    "print('')\n",
    "\n",
    "print('Probabiilty of getting finite prediction intervals')\n",
    "print(np.round(np.mean(counts, axis = 0), decimals = 3))\n",
    "print('')\n",
    "\n",
    "print('Informative coverage probability:')\n",
    "print( np.round( np.sum(counts*covs, axis = 0) /np.sum(counts, axis = 0), decimals = 3)  )\n",
    "print('')\n",
    "\n",
    "avg_finite_len = []\n",
    "for k in range(num_method):\n",
    "    lenk = lens[:,k]\n",
    "    lenk = lenk[~np.isinf(lenk)]\n",
    "    if len(lenk) == 0:\n",
    "        avg_finite_len.append(  np.inf )\n",
    "    else:\n",
    "        avg_finite_len.append( np.round( np.mean(lenk), decimals=3) )\n",
    "print('Lengths of informative intervals:')\n",
    "print(avg_finite_len )\n",
    "print('')\n",
    "\n",
    "\n",
    "print('Working groups number:')\n",
    "print(np.round( np.quantile(working_groups_mat,0.5, axis = 0) ,decimals = 3))"
   ]
  }
 ],
 "metadata": {
  "kernelspec": {
   "display_name": "Python 3",
   "language": "python",
   "name": "python3"
  },
  "language_info": {
   "codemirror_mode": {
    "name": "ipython",
    "version": 3
   },
   "file_extension": ".py",
   "mimetype": "text/x-python",
   "name": "python",
   "nbconvert_exporter": "python",
   "pygments_lexer": "ipython3",
   "version": "3.8.5"
  }
 },
 "nbformat": 4,
 "nbformat_minor": 5
}
